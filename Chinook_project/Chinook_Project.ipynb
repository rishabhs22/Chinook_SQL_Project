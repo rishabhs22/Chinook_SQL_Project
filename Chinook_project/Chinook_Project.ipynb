{
 "cells": [
  {
   "cell_type": "markdown",
   "metadata": {
    "collapsed": true
   },
   "source": [
    "# **Chinook Record Store: Answering Business Questions using SQL**"
   ]
  },
  {
   "cell_type": "markdown",
   "metadata": {},
   "source": [
    "*Rishabh Sharma*\n",
    "\n",
    "*Updated - 01/31/2022*"
   ]
  },
  {
   "cell_type": "markdown",
   "metadata": {},
   "source": [
    "In this project, we try to answer some business questions related to the *Chinook Record Store,* which sells albums associated with different artists and genres, and have customers from all around the world. "
   ]
  },
  {
   "cell_type": "markdown",
   "metadata": {},
   "source": [
    "**Lets first connect our jupyter notebook to the dataset `chinook.db` we need to work with.**"
   ]
  },
  {
   "cell_type": "code",
   "execution_count": 2,
   "metadata": {},
   "outputs": [
    {
     "data": {
      "text/plain": [
       "'Connected: None@chinook.db'"
      ]
     },
     "execution_count": 2,
     "metadata": {},
     "output_type": "execute_result"
    }
   ],
   "source": [
    "%%capture\n",
    "%load_ext sql\n",
    "%sql sqlite:///chinook.db"
   ]
  },
  {
   "cell_type": "markdown",
   "metadata": {},
   "source": [
    "This confirms that our connection with the database is successful. We can now get familiar with our dataset by looking how many tables it consist, what are the types of those tables (table or view)?"
   ]
  },
  {
   "cell_type": "code",
   "execution_count": 3,
   "metadata": {},
   "outputs": [
    {
     "name": "stdout",
     "output_type": "stream",
     "text": [
      "Done.\n"
     ]
    },
    {
     "data": {
      "text/html": [
       "<table>\n",
       "    <tr>\n",
       "        <th>name</th>\n",
       "        <th>type</th>\n",
       "    </tr>\n",
       "    <tr>\n",
       "        <td>album</td>\n",
       "        <td>table</td>\n",
       "    </tr>\n",
       "    <tr>\n",
       "        <td>artist</td>\n",
       "        <td>table</td>\n",
       "    </tr>\n",
       "    <tr>\n",
       "        <td>customer</td>\n",
       "        <td>table</td>\n",
       "    </tr>\n",
       "    <tr>\n",
       "        <td>employee</td>\n",
       "        <td>table</td>\n",
       "    </tr>\n",
       "    <tr>\n",
       "        <td>genre</td>\n",
       "        <td>table</td>\n",
       "    </tr>\n",
       "    <tr>\n",
       "        <td>invoice</td>\n",
       "        <td>table</td>\n",
       "    </tr>\n",
       "    <tr>\n",
       "        <td>invoice_line</td>\n",
       "        <td>table</td>\n",
       "    </tr>\n",
       "    <tr>\n",
       "        <td>media_type</td>\n",
       "        <td>table</td>\n",
       "    </tr>\n",
       "    <tr>\n",
       "        <td>playlist</td>\n",
       "        <td>table</td>\n",
       "    </tr>\n",
       "    <tr>\n",
       "        <td>playlist_track</td>\n",
       "        <td>table</td>\n",
       "    </tr>\n",
       "    <tr>\n",
       "        <td>track</td>\n",
       "        <td>table</td>\n",
       "    </tr>\n",
       "</table>"
      ],
      "text/plain": [
       "[('album', 'table'),\n",
       " ('artist', 'table'),\n",
       " ('customer', 'table'),\n",
       " ('employee', 'table'),\n",
       " ('genre', 'table'),\n",
       " ('invoice', 'table'),\n",
       " ('invoice_line', 'table'),\n",
       " ('media_type', 'table'),\n",
       " ('playlist', 'table'),\n",
       " ('playlist_track', 'table'),\n",
       " ('track', 'table')]"
      ]
     },
     "execution_count": 3,
     "metadata": {},
     "output_type": "execute_result"
    }
   ],
   "source": [
    "%%sql\n",
    "SELECT name,\n",
    "       type\n",
    "  FROM sqlite_master\n",
    " WHERE type IN ('table', 'view')"
   ]
  },
  {
   "cell_type": "markdown",
   "metadata": {},
   "source": [
    "Looks like we have about 12 tables in the `chinook.db` dataset. We can also preview few rows from random tables to familiarize with what actually is the content of these tables.\n"
   ]
  },
  {
   "cell_type": "code",
   "execution_count": 4,
   "metadata": {},
   "outputs": [
    {
     "name": "stdout",
     "output_type": "stream",
     "text": [
      "Done.\n"
     ]
    },
    {
     "data": {
      "text/html": [
       "<table>\n",
       "    <tr>\n",
       "        <th>customer_id</th>\n",
       "        <th>first_name</th>\n",
       "        <th>last_name</th>\n",
       "        <th>company</th>\n",
       "        <th>address</th>\n",
       "        <th>city</th>\n",
       "        <th>state</th>\n",
       "        <th>country</th>\n",
       "        <th>postal_code</th>\n",
       "        <th>phone</th>\n",
       "        <th>fax</th>\n",
       "        <th>email</th>\n",
       "        <th>support_rep_id</th>\n",
       "    </tr>\n",
       "    <tr>\n",
       "        <td>1</td>\n",
       "        <td>Luís</td>\n",
       "        <td>Gonçalves</td>\n",
       "        <td>Embraer - Empresa Brasileira de Aeronáutica S.A.</td>\n",
       "        <td>Av. Brigadeiro Faria Lima, 2170</td>\n",
       "        <td>São José dos Campos</td>\n",
       "        <td>SP</td>\n",
       "        <td>Brazil</td>\n",
       "        <td>12227-000</td>\n",
       "        <td>+55 (12) 3923-5555</td>\n",
       "        <td>+55 (12) 3923-5566</td>\n",
       "        <td>luisg@embraer.com.br</td>\n",
       "        <td>3</td>\n",
       "    </tr>\n",
       "    <tr>\n",
       "        <td>2</td>\n",
       "        <td>Leonie</td>\n",
       "        <td>Köhler</td>\n",
       "        <td>None</td>\n",
       "        <td>Theodor-Heuss-Straße 34</td>\n",
       "        <td>Stuttgart</td>\n",
       "        <td>None</td>\n",
       "        <td>Germany</td>\n",
       "        <td>70174</td>\n",
       "        <td>+49 0711 2842222</td>\n",
       "        <td>None</td>\n",
       "        <td>leonekohler@surfeu.de</td>\n",
       "        <td>5</td>\n",
       "    </tr>\n",
       "    <tr>\n",
       "        <td>3</td>\n",
       "        <td>François</td>\n",
       "        <td>Tremblay</td>\n",
       "        <td>None</td>\n",
       "        <td>1498 rue Bélanger</td>\n",
       "        <td>Montréal</td>\n",
       "        <td>QC</td>\n",
       "        <td>Canada</td>\n",
       "        <td>H2G 1A7</td>\n",
       "        <td>+1 (514) 721-4711</td>\n",
       "        <td>None</td>\n",
       "        <td>ftremblay@gmail.com</td>\n",
       "        <td>3</td>\n",
       "    </tr>\n",
       "</table>"
      ],
      "text/plain": [
       "[(1, 'Luís', 'Gonçalves', 'Embraer - Empresa Brasileira de Aeronáutica S.A.', 'Av. Brigadeiro Faria Lima, 2170', 'São José dos Campos', 'SP', 'Brazil', '12227-000', '+55 (12) 3923-5555', '+55 (12) 3923-5566', 'luisg@embraer.com.br', 3),\n",
       " (2, 'Leonie', 'Köhler', None, 'Theodor-Heuss-Straße 34', 'Stuttgart', None, 'Germany', '70174', '+49 0711 2842222', None, 'leonekohler@surfeu.de', 5),\n",
       " (3, 'François', 'Tremblay', None, '1498 rue Bélanger', 'Montréal', 'QC', 'Canada', 'H2G 1A7', '+1 (514) 721-4711', None, 'ftremblay@gmail.com', 3)]"
      ]
     },
     "execution_count": 4,
     "metadata": {},
     "output_type": "execute_result"
    }
   ],
   "source": [
    "%%sql\n",
    "\n",
    "SELECT * \n",
    "  FROM customer\n",
    " LIMIT 3;"
   ]
  },
  {
   "cell_type": "markdown",
   "metadata": {},
   "source": [
    "It also have a table named invoice, lets preview it."
   ]
  },
  {
   "cell_type": "code",
   "execution_count": 5,
   "metadata": {},
   "outputs": [
    {
     "name": "stdout",
     "output_type": "stream",
     "text": [
      "Done.\n"
     ]
    },
    {
     "data": {
      "text/html": [
       "<table>\n",
       "    <tr>\n",
       "        <th>invoice_id</th>\n",
       "        <th>customer_id</th>\n",
       "        <th>invoice_date</th>\n",
       "        <th>billing_address</th>\n",
       "        <th>billing_city</th>\n",
       "        <th>billing_state</th>\n",
       "        <th>billing_country</th>\n",
       "        <th>billing_postal_code</th>\n",
       "        <th>total</th>\n",
       "    </tr>\n",
       "    <tr>\n",
       "        <td>1</td>\n",
       "        <td>18</td>\n",
       "        <td>2017-01-03 00:00:00</td>\n",
       "        <td>627 Broadway</td>\n",
       "        <td>New York</td>\n",
       "        <td>NY</td>\n",
       "        <td>USA</td>\n",
       "        <td>10012-2612</td>\n",
       "        <td>15.84</td>\n",
       "    </tr>\n",
       "    <tr>\n",
       "        <td>2</td>\n",
       "        <td>30</td>\n",
       "        <td>2017-01-03 00:00:00</td>\n",
       "        <td>230 Elgin Street</td>\n",
       "        <td>Ottawa</td>\n",
       "        <td>ON</td>\n",
       "        <td>Canada</td>\n",
       "        <td>K2P 1L7</td>\n",
       "        <td>9.9</td>\n",
       "    </tr>\n",
       "    <tr>\n",
       "        <td>3</td>\n",
       "        <td>40</td>\n",
       "        <td>2017-01-05 00:00:00</td>\n",
       "        <td>8, Rue Hanovre</td>\n",
       "        <td>Paris</td>\n",
       "        <td>None</td>\n",
       "        <td>France</td>\n",
       "        <td>75002</td>\n",
       "        <td>1.98</td>\n",
       "    </tr>\n",
       "</table>"
      ],
      "text/plain": [
       "[(1, 18, '2017-01-03 00:00:00', '627 Broadway', 'New York', 'NY', 'USA', '10012-2612', 15.84),\n",
       " (2, 30, '2017-01-03 00:00:00', '230 Elgin Street', 'Ottawa', 'ON', 'Canada', 'K2P 1L7', 9.9),\n",
       " (3, 40, '2017-01-05 00:00:00', '8, Rue Hanovre', 'Paris', 'None', 'France', '75002', 1.98)]"
      ]
     },
     "execution_count": 5,
     "metadata": {},
     "output_type": "execute_result"
    }
   ],
   "source": [
    "%%sql\n",
    "SELECT *\n",
    "  FROM invoice\n",
    " LIMIT 3;"
   ]
  },
  {
   "cell_type": "markdown",
   "metadata": {},
   "source": [
    "Now we know the structure of some tables we can start answering some business questions for our store *Chinook.*"
   ]
  },
  {
   "cell_type": "markdown",
   "metadata": {},
   "source": [
    "**1. Find out which genres sell the most tracks in the USA and recommend top three artists whose album should store buy from the following options available :**\n",
    "\n",
    "\n",
    "1. Regal - *Hip-Hop*\n",
    "2. Red Tone\t- *Punk*\n",
    "3. Meteor and the Girls - *Pop*\n",
    "4. Slim Jim Bites - *Blues*"
   ]
  },
  {
   "cell_type": "code",
   "execution_count": 6,
   "metadata": {},
   "outputs": [
    {
     "name": "stdout",
     "output_type": "stream",
     "text": [
      "Done.\n"
     ]
    },
    {
     "data": {
      "text/html": [
       "<table>\n",
       "    <tr>\n",
       "        <th>name</th>\n",
       "        <th>tracks_sold</th>\n",
       "        <th>Percentage_contribution</th>\n",
       "    </tr>\n",
       "    <tr>\n",
       "        <td>Rock</td>\n",
       "        <td>561</td>\n",
       "        <td>53.37773549000951</td>\n",
       "    </tr>\n",
       "    <tr>\n",
       "        <td>Alternative &amp; Punk</td>\n",
       "        <td>130</td>\n",
       "        <td>12.369172216936251</td>\n",
       "    </tr>\n",
       "    <tr>\n",
       "        <td>Metal</td>\n",
       "        <td>124</td>\n",
       "        <td>11.798287345385347</td>\n",
       "    </tr>\n",
       "    <tr>\n",
       "        <td>R&amp;B/Soul</td>\n",
       "        <td>53</td>\n",
       "        <td>5.042816365366318</td>\n",
       "    </tr>\n",
       "    <tr>\n",
       "        <td>Blues</td>\n",
       "        <td>36</td>\n",
       "        <td>3.4253092293054235</td>\n",
       "    </tr>\n",
       "    <tr>\n",
       "        <td>Alternative</td>\n",
       "        <td>35</td>\n",
       "        <td>3.330161750713606</td>\n",
       "    </tr>\n",
       "    <tr>\n",
       "        <td>Latin</td>\n",
       "        <td>22</td>\n",
       "        <td>2.093244529019981</td>\n",
       "    </tr>\n",
       "    <tr>\n",
       "        <td>Pop</td>\n",
       "        <td>22</td>\n",
       "        <td>2.093244529019981</td>\n",
       "    </tr>\n",
       "    <tr>\n",
       "        <td>Hip Hop/Rap</td>\n",
       "        <td>20</td>\n",
       "        <td>1.9029495718363463</td>\n",
       "    </tr>\n",
       "    <tr>\n",
       "        <td>Jazz</td>\n",
       "        <td>14</td>\n",
       "        <td>1.3320647002854424</td>\n",
       "    </tr>\n",
       "    <tr>\n",
       "        <td>Easy Listening</td>\n",
       "        <td>13</td>\n",
       "        <td>1.236917221693625</td>\n",
       "    </tr>\n",
       "    <tr>\n",
       "        <td>Reggae</td>\n",
       "        <td>6</td>\n",
       "        <td>0.570884871550904</td>\n",
       "    </tr>\n",
       "    <tr>\n",
       "        <td>Electronica/Dance</td>\n",
       "        <td>5</td>\n",
       "        <td>0.47573739295908657</td>\n",
       "    </tr>\n",
       "    <tr>\n",
       "        <td>Classical</td>\n",
       "        <td>4</td>\n",
       "        <td>0.38058991436726924</td>\n",
       "    </tr>\n",
       "    <tr>\n",
       "        <td>Heavy Metal</td>\n",
       "        <td>3</td>\n",
       "        <td>0.285442435775452</td>\n",
       "    </tr>\n",
       "    <tr>\n",
       "        <td>Soundtrack</td>\n",
       "        <td>2</td>\n",
       "        <td>0.19029495718363462</td>\n",
       "    </tr>\n",
       "    <tr>\n",
       "        <td>TV Shows</td>\n",
       "        <td>1</td>\n",
       "        <td>0.09514747859181731</td>\n",
       "    </tr>\n",
       "</table>"
      ],
      "text/plain": [
       "[('Rock', 561, 53.37773549000951),\n",
       " ('Alternative & Punk', 130, 12.369172216936251),\n",
       " ('Metal', 124, 11.798287345385347),\n",
       " ('R&B/Soul', 53, 5.042816365366318),\n",
       " ('Blues', 36, 3.4253092293054235),\n",
       " ('Alternative', 35, 3.330161750713606),\n",
       " ('Latin', 22, 2.093244529019981),\n",
       " ('Pop', 22, 2.093244529019981),\n",
       " ('Hip Hop/Rap', 20, 1.9029495718363463),\n",
       " ('Jazz', 14, 1.3320647002854424),\n",
       " ('Easy Listening', 13, 1.236917221693625),\n",
       " ('Reggae', 6, 0.570884871550904),\n",
       " ('Electronica/Dance', 5, 0.47573739295908657),\n",
       " ('Classical', 4, 0.38058991436726924),\n",
       " ('Heavy Metal', 3, 0.285442435775452),\n",
       " ('Soundtrack', 2, 0.19029495718363462),\n",
       " ('TV Shows', 1, 0.09514747859181731)]"
      ]
     },
     "execution_count": 6,
     "metadata": {},
     "output_type": "execute_result"
    }
   ],
   "source": [
    "%%sql\n",
    " \n",
    "WITH songs_sold_usa AS\n",
    " \n",
    "    (SELECT il.* \n",
    "       FROM invoice_line AS il\n",
    "      INNER JOIN invoice AS i ON i.invoice_id = il.invoice_id\n",
    "      INNER JOIN customer AS c ON c.customer_id = i.customer_id\n",
    "      WHERE c.country = 'USA'\n",
    "    )\n",
    "    \n",
    "SELECT g.name,\n",
    "       COUNT(ssu.invoice_line_id) AS tracks_sold,\n",
    "       COUNT(ssu.invoice_line_id) * 100.0 / ( SELECT COUNT(*) FROM songs_sold_usa) AS Percentage_contribution\n",
    "  FROM songs_sold_usa AS ssu\n",
    " INNER JOIN track AS t ON t.track_id = ssu.track_id\n",
    " INNER JOIN genre As g ON g.genre_id = t.genre_id\n",
    " GROUP BY 1\n",
    " ORDER BY 2 DESC;\n"
   ]
  },
  {
   "cell_type": "markdown",
   "metadata": {},
   "source": [
    "Based on the store's history of sold tracks and among the available options, store should buy the albums of following artists:\n",
    "\n",
    "1. Red Tone - *Punk*\n",
    "2. Slim Jim Bites - *Blues*\n",
    "3. Meteor and the Girls - *Pop*\n",
    "\n",
    "*Note - The Rock Genre is the most profitable among all and accounts for about 53.3% of the total sales. Store should find ways to buy tracks from artists who produces tracks under the 'Rock' category.*"
   ]
  },
  {
   "cell_type": "markdown",
   "metadata": {
    "collapsed": true
   },
   "source": [
    "**2. Find out the dollar amount of sales secured by each sales support agent working at Chinook store to determine their relative performance to each other and find any attributes if relevant to the analysis.**"
   ]
  },
  {
   "cell_type": "code",
   "execution_count": 7,
   "metadata": {},
   "outputs": [
    {
     "name": "stdout",
     "output_type": "stream",
     "text": [
      "Done.\n"
     ]
    },
    {
     "data": {
      "text/html": [
       "<table>\n",
       "    <tr>\n",
       "        <th>employee_id</th>\n",
       "        <th>sales_rep</th>\n",
       "        <th>total_sales</th>\n",
       "        <th>hire_date</th>\n",
       "    </tr>\n",
       "    <tr>\n",
       "        <td>3</td>\n",
       "        <td>Jane Peacock</td>\n",
       "        <td>1731.5099999999998</td>\n",
       "        <td>2017-04-01 00:00:00</td>\n",
       "    </tr>\n",
       "    <tr>\n",
       "        <td>4</td>\n",
       "        <td>Margaret Park</td>\n",
       "        <td>1584.0</td>\n",
       "        <td>2017-05-03 00:00:00</td>\n",
       "    </tr>\n",
       "    <tr>\n",
       "        <td>5</td>\n",
       "        <td>Steve Johnson</td>\n",
       "        <td>1393.92</td>\n",
       "        <td>2017-10-17 00:00:00</td>\n",
       "    </tr>\n",
       "</table>"
      ],
      "text/plain": [
       "[(3, 'Jane Peacock', 1731.5099999999998, '2017-04-01 00:00:00'),\n",
       " (4, 'Margaret Park', 1584.0, '2017-05-03 00:00:00'),\n",
       " (5, 'Steve Johnson', 1393.92, '2017-10-17 00:00:00')]"
      ]
     },
     "execution_count": 7,
     "metadata": {},
     "output_type": "execute_result"
    }
   ],
   "source": [
    "%%sql\n",
    "\n",
    "WITH valuable_customer AS\n",
    "        (SELECT (c.first_name || ' ' || c.last_name) AS name,\n",
    "                c.customer_id,\n",
    "                c.support_rep_id,\n",
    "                SUM(i.total) AS total\n",
    "           FROM customer AS c\n",
    "          INNER JOIN invoice AS i ON i.customer_id = c.customer_id\n",
    "          GROUP BY 1\n",
    "          ORDER BY 4 DESC\n",
    "        )\n",
    "\n",
    "SELECT e.employee_id,\n",
    "       (e.first_name || ' ' || e.last_name) AS sales_rep,\n",
    "       SUM(vc.total) AS total_sales,\n",
    "       e.hire_date\n",
    "  FROM employee AS e\n",
    " INNER  JOIN valuable_customer AS vc ON e.employee_id = vc.support_rep_id\n",
    " GROUP BY 2\n",
    " ORDER BY 3 DESC;"
   ]
  },
  {
   "cell_type": "markdown",
   "metadata": {},
   "source": [
    "Above table implies that the top sales rep with highest sales amount is *Jane Peacock.* The `hire_date` field also illustrates that the difference between the top employee (Jane) and bottom employee (Steve) can be attributed to the working duration of the emplyee at the store. This states that longer the employee is working at the Chinook store, the better he/she gets for securing the sale deals."
   ]
  },
  {
   "cell_type": "markdown",
   "metadata": {},
   "source": [
    "**3. Chinook store wants to find out the most profitable countries based on their sales data. Collate data from different countries including specific fields / For each country include:**\n",
    "\n",
    "1. Total Number of customers\n",
    "2. Total Value of sales\n",
    "3. Average Value of sales per customer\n",
    "4. Average Order Value\n"
   ]
  },
  {
   "cell_type": "code",
   "execution_count": 22,
   "metadata": {},
   "outputs": [
    {
     "name": "stdout",
     "output_type": "stream",
     "text": [
      "Done.\n"
     ]
    },
    {
     "data": {
      "text/html": [
       "<table>\n",
       "    <tr>\n",
       "        <th>Country</th>\n",
       "        <th>No. of customers</th>\n",
       "        <th>Total Value of sales</th>\n",
       "        <th>Average Value of sales / customer</th>\n",
       "        <th>Average order value</th>\n",
       "    </tr>\n",
       "    <tr>\n",
       "        <td>USA</td>\n",
       "        <td>13</td>\n",
       "        <td>1040.4899999999998</td>\n",
       "        <td>80.0376923076923</td>\n",
       "        <td>7.942671755725189</td>\n",
       "    </tr>\n",
       "    <tr>\n",
       "        <td>Canada</td>\n",
       "        <td>8</td>\n",
       "        <td>535.5900000000001</td>\n",
       "        <td>66.94875000000002</td>\n",
       "        <td>7.047236842105265</td>\n",
       "    </tr>\n",
       "    <tr>\n",
       "        <td>Brazil</td>\n",
       "        <td>5</td>\n",
       "        <td>427.68000000000006</td>\n",
       "        <td>85.53600000000002</td>\n",
       "        <td>7.0111475409836075</td>\n",
       "    </tr>\n",
       "    <tr>\n",
       "        <td>France</td>\n",
       "        <td>5</td>\n",
       "        <td>389.0699999999999</td>\n",
       "        <td>77.81399999999998</td>\n",
       "        <td>7.781399999999998</td>\n",
       "    </tr>\n",
       "    <tr>\n",
       "        <td>Germany</td>\n",
       "        <td>4</td>\n",
       "        <td>334.62</td>\n",
       "        <td>83.655</td>\n",
       "        <td>8.161463414634147</td>\n",
       "    </tr>\n",
       "    <tr>\n",
       "        <td>Czech Republic</td>\n",
       "        <td>2</td>\n",
       "        <td>273.24000000000007</td>\n",
       "        <td>136.62000000000003</td>\n",
       "        <td>9.108000000000002</td>\n",
       "    </tr>\n",
       "    <tr>\n",
       "        <td>United Kingdom</td>\n",
       "        <td>3</td>\n",
       "        <td>245.52</td>\n",
       "        <td>81.84</td>\n",
       "        <td>8.768571428571429</td>\n",
       "    </tr>\n",
       "    <tr>\n",
       "        <td>Portugal</td>\n",
       "        <td>2</td>\n",
       "        <td>185.13000000000002</td>\n",
       "        <td>92.56500000000001</td>\n",
       "        <td>6.383793103448276</td>\n",
       "    </tr>\n",
       "    <tr>\n",
       "        <td>India</td>\n",
       "        <td>2</td>\n",
       "        <td>183.14999999999998</td>\n",
       "        <td>91.57499999999999</td>\n",
       "        <td>8.72142857142857</td>\n",
       "    </tr>\n",
       "    <tr>\n",
       "        <td>Ireland</td>\n",
       "        <td>1</td>\n",
       "        <td>114.83999999999997</td>\n",
       "        <td>114.83999999999997</td>\n",
       "        <td>8.833846153846151</td>\n",
       "    </tr>\n",
       "    <tr>\n",
       "        <td>Spain</td>\n",
       "        <td>1</td>\n",
       "        <td>98.01</td>\n",
       "        <td>98.01</td>\n",
       "        <td>8.91</td>\n",
       "    </tr>\n",
       "    <tr>\n",
       "        <td>Chile</td>\n",
       "        <td>1</td>\n",
       "        <td>97.02000000000001</td>\n",
       "        <td>97.02000000000001</td>\n",
       "        <td>7.463076923076924</td>\n",
       "    </tr>\n",
       "    <tr>\n",
       "        <td>Australia</td>\n",
       "        <td>1</td>\n",
       "        <td>81.18</td>\n",
       "        <td>81.18</td>\n",
       "        <td>8.118</td>\n",
       "    </tr>\n",
       "    <tr>\n",
       "        <td>Finland</td>\n",
       "        <td>1</td>\n",
       "        <td>79.2</td>\n",
       "        <td>79.2</td>\n",
       "        <td>7.2</td>\n",
       "    </tr>\n",
       "    <tr>\n",
       "        <td>Hungary</td>\n",
       "        <td>1</td>\n",
       "        <td>78.21</td>\n",
       "        <td>78.21</td>\n",
       "        <td>7.821</td>\n",
       "    </tr>\n",
       "    <tr>\n",
       "        <td>Poland</td>\n",
       "        <td>1</td>\n",
       "        <td>76.22999999999999</td>\n",
       "        <td>76.22999999999999</td>\n",
       "        <td>7.622999999999999</td>\n",
       "    </tr>\n",
       "    <tr>\n",
       "        <td>Sweden</td>\n",
       "        <td>1</td>\n",
       "        <td>75.24</td>\n",
       "        <td>75.24</td>\n",
       "        <td>7.523999999999999</td>\n",
       "    </tr>\n",
       "    <tr>\n",
       "        <td>Norway</td>\n",
       "        <td>1</td>\n",
       "        <td>72.27000000000001</td>\n",
       "        <td>72.27000000000001</td>\n",
       "        <td>8.030000000000001</td>\n",
       "    </tr>\n",
       "    <tr>\n",
       "        <td>Austria</td>\n",
       "        <td>1</td>\n",
       "        <td>69.3</td>\n",
       "        <td>69.3</td>\n",
       "        <td>7.699999999999999</td>\n",
       "    </tr>\n",
       "    <tr>\n",
       "        <td>Netherlands</td>\n",
       "        <td>1</td>\n",
       "        <td>65.34</td>\n",
       "        <td>65.34</td>\n",
       "        <td>6.534000000000001</td>\n",
       "    </tr>\n",
       "    <tr>\n",
       "        <td>Belgium</td>\n",
       "        <td>1</td>\n",
       "        <td>60.38999999999999</td>\n",
       "        <td>60.38999999999999</td>\n",
       "        <td>8.627142857142855</td>\n",
       "    </tr>\n",
       "    <tr>\n",
       "        <td>Italy</td>\n",
       "        <td>1</td>\n",
       "        <td>50.49</td>\n",
       "        <td>50.49</td>\n",
       "        <td>5.61</td>\n",
       "    </tr>\n",
       "    <tr>\n",
       "        <td>Argentina</td>\n",
       "        <td>1</td>\n",
       "        <td>39.6</td>\n",
       "        <td>39.6</td>\n",
       "        <td>7.92</td>\n",
       "    </tr>\n",
       "    <tr>\n",
       "        <td>Denmark</td>\n",
       "        <td>1</td>\n",
       "        <td>37.61999999999999</td>\n",
       "        <td>37.61999999999999</td>\n",
       "        <td>3.761999999999999</td>\n",
       "    </tr>\n",
       "</table>"
      ],
      "text/plain": [
       "[('USA', 13, 1040.4899999999998, 80.0376923076923, 7.942671755725189),\n",
       " ('Canada', 8, 535.5900000000001, 66.94875000000002, 7.047236842105265),\n",
       " ('Brazil', 5, 427.68000000000006, 85.53600000000002, 7.0111475409836075),\n",
       " ('France', 5, 389.0699999999999, 77.81399999999998, 7.781399999999998),\n",
       " ('Germany', 4, 334.62, 83.655, 8.161463414634147),\n",
       " ('Czech Republic', 2, 273.24000000000007, 136.62000000000003, 9.108000000000002),\n",
       " ('United Kingdom', 3, 245.52, 81.84, 8.768571428571429),\n",
       " ('Portugal', 2, 185.13000000000002, 92.56500000000001, 6.383793103448276),\n",
       " ('India', 2, 183.14999999999998, 91.57499999999999, 8.72142857142857),\n",
       " ('Ireland', 1, 114.83999999999997, 114.83999999999997, 8.833846153846151),\n",
       " ('Spain', 1, 98.01, 98.01, 8.91),\n",
       " ('Chile', 1, 97.02000000000001, 97.02000000000001, 7.463076923076924),\n",
       " ('Australia', 1, 81.18, 81.18, 8.118),\n",
       " ('Finland', 1, 79.2, 79.2, 7.2),\n",
       " ('Hungary', 1, 78.21, 78.21, 7.821),\n",
       " ('Poland', 1, 76.22999999999999, 76.22999999999999, 7.622999999999999),\n",
       " ('Sweden', 1, 75.24, 75.24, 7.523999999999999),\n",
       " ('Norway', 1, 72.27000000000001, 72.27000000000001, 8.030000000000001),\n",
       " ('Austria', 1, 69.3, 69.3, 7.699999999999999),\n",
       " ('Netherlands', 1, 65.34, 65.34, 6.534000000000001),\n",
       " ('Belgium', 1, 60.38999999999999, 60.38999999999999, 8.627142857142855),\n",
       " ('Italy', 1, 50.49, 50.49, 5.61),\n",
       " ('Argentina', 1, 39.6, 39.6, 7.92),\n",
       " ('Denmark', 1, 37.61999999999999, 37.61999999999999, 3.761999999999999)]"
      ]
     },
     "execution_count": 22,
     "metadata": {},
     "output_type": "execute_result"
    }
   ],
   "source": [
    "%%sql\n",
    "\n",
    "WITH number_customers AS     \n",
    "    (SELECT COUNT(DISTINCT(c.customer_id)) AS number,\n",
    "            c.country\n",
    "       FROM customer AS c\n",
    "      GROUP BY 2\n",
    "      ORDER BY 1 DESC\n",
    "     ),\n",
    "    \n",
    "value AS\n",
    "\n",
    "     (SELECT SUM(i.total) AS total,\n",
    "             c.country,\n",
    "             COUNT(DISTINCT(i.invoice_id)) AS number_orders\n",
    "        FROM customer AS c\n",
    "       INNER JOIN invoice AS i ON i.customer_id = c.customer_id\n",
    "       GROUP BY 2\n",
    "       ORDER BY 1\n",
    "      )\n",
    "    \n",
    "SELECT n.country AS 'Country',\n",
    "       n.number AS 'No. of customers',\n",
    "       v.total AS 'Total Value of sales',\n",
    "       (v.total / n.number) AS 'Average Value of sales / customer',\n",
    "       (v.total / v.number_orders) AS 'Average order value'\n",
    "  FROM number_customers AS n\n",
    "  JOIN value AS v ON n.country = v.country\n",
    " GROUP BY 1\n",
    " ORDER BY 3 DESC;"
   ]
  },
  {
   "cell_type": "markdown",
   "metadata": {},
   "source": [
    "Above tabel shows depicts that **USA** is the most profitable country for the store with an average order value of *7.94* followed by **Canada** with average order value of *7.05.* "
   ]
  },
  {
   "cell_type": "markdown",
   "metadata": {},
   "source": [
    "**5. The manager at Chinook record store is confused with the different formats (media type) made available by the vendor. Find the appropriate media type ratio to buy for future albums.**"
   ]
  },
  {
   "cell_type": "code",
   "execution_count": 42,
   "metadata": {},
   "outputs": [
    {
     "name": "stdout",
     "output_type": "stream",
     "text": [
      "Done.\n"
     ]
    },
    {
     "data": {
      "text/html": [
       "<table>\n",
       "    <tr>\n",
       "        <th>name</th>\n",
       "        <th>tracks_sold</th>\n",
       "        <th>Percentage_contribution</th>\n",
       "    </tr>\n",
       "    <tr>\n",
       "        <td>MPEG audio file</td>\n",
       "        <td>4259</td>\n",
       "        <td>89.53121715366828</td>\n",
       "    </tr>\n",
       "    <tr>\n",
       "        <td>Protected AAC audio file</td>\n",
       "        <td>439</td>\n",
       "        <td>9.228505360521337</td>\n",
       "    </tr>\n",
       "    <tr>\n",
       "        <td>Purchased AAC audio file</td>\n",
       "        <td>35</td>\n",
       "        <td>0.7357578305654825</td>\n",
       "    </tr>\n",
       "    <tr>\n",
       "        <td>AAC audio file</td>\n",
       "        <td>21</td>\n",
       "        <td>0.44145469833928946</td>\n",
       "    </tr>\n",
       "    <tr>\n",
       "        <td>Protected MPEG-4 video file</td>\n",
       "        <td>3</td>\n",
       "        <td>0.06306495690561278</td>\n",
       "    </tr>\n",
       "</table>"
      ],
      "text/plain": [
       "[('MPEG audio file', 4259, 89.53121715366828),\n",
       " ('Protected AAC audio file', 439, 9.228505360521337),\n",
       " ('Purchased AAC audio file', 35, 0.7357578305654825),\n",
       " ('AAC audio file', 21, 0.44145469833928946),\n",
       " ('Protected MPEG-4 video file', 3, 0.06306495690561278)]"
      ]
     },
     "execution_count": 42,
     "metadata": {},
     "output_type": "execute_result"
    }
   ],
   "source": [
    "%%sql\n",
    " \n",
    "WITH temp_table AS\n",
    " \n",
    "    (SELECT il.* \n",
    "       FROM invoice_line AS il\n",
    "      INNER JOIN invoice AS i ON i.invoice_id = il.invoice_id\n",
    "      INNER JOIN customer AS c ON c.customer_id = i.customer_id \n",
    "    )\n",
    "    \n",
    "SELECT m.name,\n",
    "       COUNT(tt.invoice_line_id) AS tracks_sold,\n",
    "       COUNT(tt.invoice_line_id) * 100.0 / ( SELECT COUNT(*) FROM temp_table) AS Percentage_contribution\n",
    "  FROM temp_table AS tt\n",
    " INNER JOIN track AS t ON t.track_id = tt.track_id\n",
    " INNER JOIN media_type As m ON m.media_type_id = t.media_type_id\n",
    " GROUP BY 1\n",
    " ORDER BY 2 DESC;\n"
   ]
  },
  {
   "cell_type": "markdown",
   "metadata": {
    "collapsed": true
   },
   "source": [
    "The above table suggests that the manager should buy the *MPEG audio file* format the most (accounting for about 89% of the total sales) followed by the *Protected AAC audio file* (accounting for about 9% of all media types (formats) available."
   ]
  },
  {
   "cell_type": "code",
   "execution_count": null,
   "metadata": {
    "collapsed": true
   },
   "outputs": [],
   "source": []
  }
 ],
 "metadata": {
  "kernelspec": {
   "display_name": "Python 3 (ipykernel)",
   "language": "python",
   "name": "python3"
  },
  "language_info": {
   "codemirror_mode": {
    "name": "ipython",
    "version": 3
   },
   "file_extension": ".py",
   "mimetype": "text/x-python",
   "name": "python",
   "nbconvert_exporter": "python",
   "pygments_lexer": "ipython3",
   "version": "3.9.7"
  }
 },
 "nbformat": 4,
 "nbformat_minor": 2
}
